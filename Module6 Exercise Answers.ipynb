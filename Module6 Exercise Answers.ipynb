{
 "cells": [
  {
   "cell_type": "markdown",
   "metadata": {},
   "source": [
    "### Exercise 1\n",
    "Convert following decimal number to a binary number by hand:\n",
    "\n",
    "    61\n",
    "    15\n",
    "    71\n",
    "    "
   ]
  },
  {
   "cell_type": "code",
   "execution_count": 15,
   "metadata": {},
   "outputs": [
    {
     "data": {
      "text/plain": [
       "(0, 1)"
      ]
     },
     "execution_count": 15,
     "metadata": {},
     "output_type": "execute_result"
    }
   ],
   "source": [
    "61 // 2 , 61 % 2\n",
    "30 // 2 , 30 % 2\n",
    "15 // 2 , 15 % 2\n",
    "7 // 2 , 7 % 2\n",
    "3 // 2 , 3 % 2\n",
    "1 // 2 , 3 % 2\n",
    "# 111101"
   ]
  },
  {
   "cell_type": "code",
   "execution_count": 27,
   "metadata": {},
   "outputs": [
    {
     "data": {
      "text/plain": [
       "(0, 1)"
      ]
     },
     "execution_count": 27,
     "metadata": {},
     "output_type": "execute_result"
    }
   ],
   "source": [
    "# 1111\n",
    "15 // 2 , 15 % 2\n",
    "7 // 2 , 7 % 2\n",
    "3 // 2 , 3 % 2\n",
    "1 // 2 , 1 % 2\n"
   ]
  },
  {
   "cell_type": "code",
   "execution_count": 37,
   "metadata": {},
   "outputs": [
    {
     "data": {
      "text/plain": [
       "'0b1000111'"
      ]
     },
     "execution_count": 37,
     "metadata": {},
     "output_type": "execute_result"
    }
   ],
   "source": [
    "# 1000111\n",
    "71 // 2 , 71 % 2\n",
    "35 // 2 , 35 % 2\n",
    "17 // 2 , 17 % 2\n",
    "8 // 2 , 8 % 2\n",
    "4 // 2 , 4 % 2\n",
    "2 // 2 , 2 % 2\n",
    "1 // 2 , 2 % 2"
   ]
  },
  {
   "cell_type": "markdown",
   "metadata": {},
   "source": [
    "### Exercise 2\n",
    "When a = 61 and b = 15, what is the result of following bitwise opertion? Use inline comments to show your result in a binary number. Find your answer by hand.\n",
    "\n",
    "    a & b\n",
    "    a | b\n",
    "    a ^ b\n",
    "    a >> 2\n",
    "    "
   ]
  },
  {
   "cell_type": "code",
   "execution_count": 39,
   "metadata": {},
   "outputs": [
    {
     "data": {
      "text/plain": [
       "'0b1111'"
      ]
     },
     "execution_count": 39,
     "metadata": {},
     "output_type": "execute_result"
    }
   ],
   "source": [
    "# convert a in to a binary number\n",
    "bin(61)\n",
    "# '0b111101'\n",
    "# convert b in to a binary number\n",
    "bin(15)\n",
    "# '0b1111'"
   ]
  },
  {
   "cell_type": "code",
   "execution_count": 43,
   "metadata": {},
   "outputs": [
    {
     "data": {
      "text/plain": [
       "13"
      ]
     },
     "execution_count": 43,
     "metadata": {},
     "output_type": "execute_result"
    }
   ],
   "source": [
    "# a & b\n",
    "a = 0b111101\n",
    "b = 0b001111\n",
    "int(0b001101)"
   ]
  },
  {
   "cell_type": "code",
   "execution_count": 47,
   "metadata": {},
   "outputs": [
    {
     "data": {
      "text/plain": [
       "63"
      ]
     },
     "execution_count": 47,
     "metadata": {},
     "output_type": "execute_result"
    }
   ],
   "source": [
    "# a | b\n",
    "a = 0b111101\n",
    "b = 0b001111\n",
    "int(0b111111)"
   ]
  },
  {
   "cell_type": "code",
   "execution_count": 51,
   "metadata": {},
   "outputs": [
    {
     "data": {
      "text/plain": [
       "50"
      ]
     },
     "execution_count": 51,
     "metadata": {},
     "output_type": "execute_result"
    }
   ],
   "source": [
    "# a ^ b\n",
    "a = 0b111101\n",
    "b = 0b001111\n",
    "int(0b110010)"
   ]
  },
  {
   "cell_type": "code",
   "execution_count": 58,
   "metadata": {},
   "outputs": [
    {
     "data": {
      "text/plain": [
       "'0b111101'"
      ]
     },
     "execution_count": 58,
     "metadata": {},
     "output_type": "execute_result"
    }
   ],
   "source": [
    "# a >> 2\n",
    "bin(61)\n",
    "\n",
    "# --- 0b1111 --- #"
   ]
  },
  {
   "cell_type": "markdown",
   "metadata": {},
   "source": [
    "### Exercise 3\n",
    "Ask a user for a code and store that answer. \n",
    "If the answer is <b>grey</b> then print \"You found secret code.\"\n",
    "Otherwise print that the entered code is not the secret code."
   ]
  },
  {
   "cell_type": "code",
   "execution_count": 63,
   "metadata": {},
   "outputs": [
    {
     "name": "stdout",
     "output_type": "stream",
     "text": [
      "What is the secret code? grey\n",
      "You found secret code.\n"
     ]
    }
   ],
   "source": [
    "code = input(\"What is the secret code? \")\n",
    "\n",
    "if code == \"grey\":\n",
    "    print(\"You found secret code.\")\n",
    "else :\n",
    "    print(\"Not the secret code.\")"
   ]
  },
  {
   "cell_type": "markdown",
   "metadata": {},
   "source": [
    "### Exercise 4\n",
    "Ask for an exam score and store that number. If the number is greater than 100, then print out 'You cannot have an exam score higher than 100'. If the number doesn't exceeed 100 but is greater than or equal to 75, then print out 'You did great on your exam!'. Otherwise if they scored lower than 75, then print out 'You need to study harder'."
   ]
  },
  {
   "cell_type": "code",
   "execution_count": 69,
   "metadata": {},
   "outputs": [
    {
     "name": "stdout",
     "output_type": "stream",
     "text": [
      "What is your score? 65\n",
      "Try again.\n"
     ]
    }
   ],
   "source": [
    "score = int(input(\"What is your score? \"))\n",
    "\n",
    "if score > 100:\n",
    "    print(\"You cannot have an exam score higher than 100\")\n",
    "elif score <= 100 and score >= 75:\n",
    "    print(\"You did great on your exam!\")\n",
    "else:\n",
    "    print(\"Try again.\")"
   ]
  },
  {
   "cell_type": "markdown",
   "metadata": {},
   "source": [
    "### Exercise 5\n",
    "Write a function to convert a test score to a grade where  \n",
    " - 90 - 100: A\n",
    " - 80 - 89:  B\n",
    " - 70 - 79:  C\n",
    " - 60 - 69:  D\n",
    " - < 60   :  F\n",
    " \n",
    "If a score is not between 0 and 100 then print out an error message. In the program, ask the user for a score and then call your function. "
   ]
  },
  {
   "cell_type": "code",
   "execution_count": 2,
   "metadata": {},
   "outputs": [],
   "source": [
    "# define your function\n",
    "score = 0\n",
    "def score_func() :\n",
    "    if score <= 100 and score >= 90:\n",
    "        message = \"A\"\n",
    "    elif score <= 89 and score >= 80:\n",
    "        message = \"B\"\n",
    "    elif score <= 79 and score >= 70:\n",
    "        message = \"C\"\n",
    "    elif score <= 69 and score >= 60:\n",
    "        message = \"D\"\n",
    "    else:\n",
    "        message = \"F\"\n",
    "    return message\n",
    "    "
   ]
  },
  {
   "cell_type": "code",
   "execution_count": 4,
   "metadata": {},
   "outputs": [
    {
     "name": "stdout",
     "output_type": "stream",
     "text": [
      "Enter your score as a number. 57\n"
     ]
    },
    {
     "data": {
      "text/plain": [
       "'F'"
      ]
     },
     "execution_count": 4,
     "metadata": {},
     "output_type": "execute_result"
    }
   ],
   "source": [
    "# ask the user for a score and then call your function\n",
    "score = int(input(\"Enter your score as a number. \"))\n",
    "\n",
    "score_func()"
   ]
  },
  {
   "cell_type": "code",
   "execution_count": null,
   "metadata": {},
   "outputs": [],
   "source": []
  }
 ],
 "metadata": {
  "kernelspec": {
   "display_name": "Python 3",
   "language": "python",
   "name": "python3"
  },
  "language_info": {
   "codemirror_mode": {
    "name": "ipython",
    "version": 3
   },
   "file_extension": ".py",
   "mimetype": "text/x-python",
   "name": "python",
   "nbconvert_exporter": "python",
   "pygments_lexer": "ipython3",
   "version": "3.8.8"
  }
 },
 "nbformat": 4,
 "nbformat_minor": 4
}
